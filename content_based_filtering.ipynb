{
 "cells": [
  {
   "cell_type": "markdown",
   "id": "e4683af7-1773-4425-aeaf-d9b27e7bc27a",
   "metadata": {},
   "source": [
    "# Content based filtering"
   ]
  },
  {
   "cell_type": "code",
   "execution_count": 1,
   "id": "acae70ff-5177-466d-9f7d-de86797f14fc",
   "metadata": {},
   "outputs": [],
   "source": [
    "# Relevant Libraries\n",
    "import pandas as pd\n",
    "import numpy as np\n",
    "import matplotlib.pyplot as plt\n",
    "from sklearn.preprocessing import LabelEncoder\n",
    "from sklearn.model_selection import train_test_split\n",
    "from sklearn.feature_extraction.text import TfidfVectorizer\n",
    "from sklearn.metrics.pairwise import cosine_similarity\n",
    "\n",
    "import nltk\n",
    "from nltk.corpus import stopwords\n",
    "from sklearn.feature_extraction.text import CountVectorizer\n",
    "from tensorflow.keras import models\n",
    "from tensorflow.keras import layers\n",
    "from tensorflow.keras import optimizers\n",
    "from tensorflow.keras import losses\n",
    "from tensorflow.keras import regularizers\n",
    "from tensorflow.keras import metrics\n",
    "from tensorflow.keras.utils import plot_model"
   ]
  },
  {
   "cell_type": "code",
   "execution_count": 2,
   "id": "e66c32dc-f185-4cdf-be81-1d035bba69ea",
   "metadata": {},
   "outputs": [],
   "source": [
    "# Create a variable for the movie file directory.\n",
    "imdb_data_dir = 'C:/Users/Ehi/Downloads/data/imdb/'"
   ]
  },
  {
   "cell_type": "code",
   "execution_count": 3,
   "id": "ec21db01-532c-46fc-863d-907fbf345ffd",
   "metadata": {},
   "outputs": [
    {
     "name": "stderr",
     "output_type": "stream",
     "text": [
      "C:\\Users\\Ehi\\AppData\\Local\\Temp\\ipykernel_15232\\2654207040.py:2: DtypeWarning: Columns (10) have mixed types. Specify dtype option on import or set low_memory=False.\n",
      "  metadata = pd.read_csv(imdb_data_dir + 'movies_metadata.csv')\n"
     ]
    },
    {
     "data": {
      "text/html": [
       "<div>\n",
       "<style scoped>\n",
       "    .dataframe tbody tr th:only-of-type {\n",
       "        vertical-align: middle;\n",
       "    }\n",
       "\n",
       "    .dataframe tbody tr th {\n",
       "        vertical-align: top;\n",
       "    }\n",
       "\n",
       "    .dataframe thead th {\n",
       "        text-align: right;\n",
       "    }\n",
       "</style>\n",
       "<table border=\"1\" class=\"dataframe\">\n",
       "  <thead>\n",
       "    <tr style=\"text-align: right;\">\n",
       "      <th></th>\n",
       "      <th>adult</th>\n",
       "      <th>belongs_to_collection</th>\n",
       "      <th>budget</th>\n",
       "      <th>genres</th>\n",
       "      <th>homepage</th>\n",
       "      <th>id</th>\n",
       "      <th>imdb_id</th>\n",
       "      <th>original_language</th>\n",
       "      <th>original_title</th>\n",
       "      <th>overview</th>\n",
       "      <th>...</th>\n",
       "      <th>release_date</th>\n",
       "      <th>revenue</th>\n",
       "      <th>runtime</th>\n",
       "      <th>spoken_languages</th>\n",
       "      <th>status</th>\n",
       "      <th>tagline</th>\n",
       "      <th>title</th>\n",
       "      <th>video</th>\n",
       "      <th>vote_average</th>\n",
       "      <th>vote_count</th>\n",
       "    </tr>\n",
       "  </thead>\n",
       "  <tbody>\n",
       "    <tr>\n",
       "      <th>0</th>\n",
       "      <td>False</td>\n",
       "      <td>{'id': 10194, 'name': 'Toy Story Collection', ...</td>\n",
       "      <td>30000000</td>\n",
       "      <td>[{'id': 16, 'name': 'Animation'}, {'id': 35, '...</td>\n",
       "      <td>http://toystory.disney.com/toy-story</td>\n",
       "      <td>862</td>\n",
       "      <td>tt0114709</td>\n",
       "      <td>en</td>\n",
       "      <td>Toy Story</td>\n",
       "      <td>Led by Woody, Andy's toys live happily in his ...</td>\n",
       "      <td>...</td>\n",
       "      <td>1995-10-30</td>\n",
       "      <td>373554033.0</td>\n",
       "      <td>81.0</td>\n",
       "      <td>[{'iso_639_1': 'en', 'name': 'English'}]</td>\n",
       "      <td>Released</td>\n",
       "      <td>NaN</td>\n",
       "      <td>Toy Story</td>\n",
       "      <td>False</td>\n",
       "      <td>7.7</td>\n",
       "      <td>5415.0</td>\n",
       "    </tr>\n",
       "    <tr>\n",
       "      <th>1</th>\n",
       "      <td>False</td>\n",
       "      <td>NaN</td>\n",
       "      <td>65000000</td>\n",
       "      <td>[{'id': 12, 'name': 'Adventure'}, {'id': 14, '...</td>\n",
       "      <td>NaN</td>\n",
       "      <td>8844</td>\n",
       "      <td>tt0113497</td>\n",
       "      <td>en</td>\n",
       "      <td>Jumanji</td>\n",
       "      <td>When siblings Judy and Peter discover an encha...</td>\n",
       "      <td>...</td>\n",
       "      <td>1995-12-15</td>\n",
       "      <td>262797249.0</td>\n",
       "      <td>104.0</td>\n",
       "      <td>[{'iso_639_1': 'en', 'name': 'English'}, {'iso...</td>\n",
       "      <td>Released</td>\n",
       "      <td>Roll the dice and unleash the excitement!</td>\n",
       "      <td>Jumanji</td>\n",
       "      <td>False</td>\n",
       "      <td>6.9</td>\n",
       "      <td>2413.0</td>\n",
       "    </tr>\n",
       "    <tr>\n",
       "      <th>2</th>\n",
       "      <td>False</td>\n",
       "      <td>{'id': 119050, 'name': 'Grumpy Old Men Collect...</td>\n",
       "      <td>0</td>\n",
       "      <td>[{'id': 10749, 'name': 'Romance'}, {'id': 35, ...</td>\n",
       "      <td>NaN</td>\n",
       "      <td>15602</td>\n",
       "      <td>tt0113228</td>\n",
       "      <td>en</td>\n",
       "      <td>Grumpier Old Men</td>\n",
       "      <td>A family wedding reignites the ancient feud be...</td>\n",
       "      <td>...</td>\n",
       "      <td>1995-12-22</td>\n",
       "      <td>0.0</td>\n",
       "      <td>101.0</td>\n",
       "      <td>[{'iso_639_1': 'en', 'name': 'English'}]</td>\n",
       "      <td>Released</td>\n",
       "      <td>Still Yelling. Still Fighting. Still Ready for...</td>\n",
       "      <td>Grumpier Old Men</td>\n",
       "      <td>False</td>\n",
       "      <td>6.5</td>\n",
       "      <td>92.0</td>\n",
       "    </tr>\n",
       "  </tbody>\n",
       "</table>\n",
       "<p>3 rows × 24 columns</p>\n",
       "</div>"
      ],
      "text/plain": [
       "   adult                              belongs_to_collection    budget  \\\n",
       "0  False  {'id': 10194, 'name': 'Toy Story Collection', ...  30000000   \n",
       "1  False                                                NaN  65000000   \n",
       "2  False  {'id': 119050, 'name': 'Grumpy Old Men Collect...         0   \n",
       "\n",
       "                                              genres  \\\n",
       "0  [{'id': 16, 'name': 'Animation'}, {'id': 35, '...   \n",
       "1  [{'id': 12, 'name': 'Adventure'}, {'id': 14, '...   \n",
       "2  [{'id': 10749, 'name': 'Romance'}, {'id': 35, ...   \n",
       "\n",
       "                               homepage     id    imdb_id original_language  \\\n",
       "0  http://toystory.disney.com/toy-story    862  tt0114709                en   \n",
       "1                                   NaN   8844  tt0113497                en   \n",
       "2                                   NaN  15602  tt0113228                en   \n",
       "\n",
       "     original_title                                           overview  ...  \\\n",
       "0         Toy Story  Led by Woody, Andy's toys live happily in his ...  ...   \n",
       "1           Jumanji  When siblings Judy and Peter discover an encha...  ...   \n",
       "2  Grumpier Old Men  A family wedding reignites the ancient feud be...  ...   \n",
       "\n",
       "  release_date      revenue runtime  \\\n",
       "0   1995-10-30  373554033.0    81.0   \n",
       "1   1995-12-15  262797249.0   104.0   \n",
       "2   1995-12-22          0.0   101.0   \n",
       "\n",
       "                                    spoken_languages    status  \\\n",
       "0           [{'iso_639_1': 'en', 'name': 'English'}]  Released   \n",
       "1  [{'iso_639_1': 'en', 'name': 'English'}, {'iso...  Released   \n",
       "2           [{'iso_639_1': 'en', 'name': 'English'}]  Released   \n",
       "\n",
       "                                             tagline             title  video  \\\n",
       "0                                                NaN         Toy Story  False   \n",
       "1          Roll the dice and unleash the excitement!           Jumanji  False   \n",
       "2  Still Yelling. Still Fighting. Still Ready for...  Grumpier Old Men  False   \n",
       "\n",
       "  vote_average vote_count  \n",
       "0          7.7     5415.0  \n",
       "1          6.9     2413.0  \n",
       "2          6.5       92.0  \n",
       "\n",
       "[3 rows x 24 columns]"
      ]
     },
     "execution_count": 3,
     "metadata": {},
     "output_type": "execute_result"
    }
   ],
   "source": [
    "# load metadata csv file\n",
    "metadata = pd.read_csv(imdb_data_dir + 'movies_metadata.csv')\n",
    "\n",
    "# Print the first three rows\n",
    "metadata.head(3)"
   ]
  },
  {
   "cell_type": "code",
   "execution_count": 4,
   "id": "7a75da63-7266-4f8d-ac2e-8a4d281f85a0",
   "metadata": {},
   "outputs": [],
   "source": [
    "# Load the keywords and credits data\n",
    "credits = pd.read_csv(imdb_data_dir + 'credits.csv')\n",
    "keywords = pd.read_csv(imdb_data_dir + 'keywords.csv')"
   ]
  },
  {
   "cell_type": "code",
   "execution_count": 5,
   "id": "89482468-71cf-4ed9-bace-784a593983ee",
   "metadata": {},
   "outputs": [],
   "source": [
    "# Drop rows that disrupts the data from merging\n",
    "metadata = metadata.drop([19730, 29503, 35587])\n",
    "\n",
    "# Convert IDs to integers Required for merging\n",
    "keywords['id'] = keywords['id'].astype('int')\n",
    "credits['id'] = credits['id'].astype('int')\n",
    "metadata['id'] = metadata['id'].astype('int')"
   ]
  },
  {
   "cell_type": "code",
   "execution_count": 6,
   "id": "a960b9b0-d621-4145-93a0-4baed2802d07",
   "metadata": {},
   "outputs": [],
   "source": [
    "# Merge keywords and credits into your main metadata dataframe\n",
    "metadata = metadata.merge(credits, on='id')\n",
    "metadata = metadata.merge(keywords, on='id')"
   ]
  },
  {
   "cell_type": "code",
   "execution_count": 7,
   "id": "e0465314-9f05-4581-9d45-8fba4ae1f78c",
   "metadata": {},
   "outputs": [],
   "source": [
    "# Parse the string features into their corresponding python objects\n",
    "from ast import literal_eval\n",
    "\n",
    "features = ['cast', 'crew', 'keywords', 'genres']\n",
    "for feature in features:\n",
    "    metadata[feature] = metadata[feature].apply(literal_eval)"
   ]
  },
  {
   "cell_type": "code",
   "execution_count": 8,
   "id": "4b3756ba-f3f6-489a-bcec-b54005f439b0",
   "metadata": {},
   "outputs": [
    {
     "data": {
      "text/plain": [
       "0        [{'cast_id': 14, 'character': 'Woody (voice)',...\n",
       "1        [{'cast_id': 1, 'character': 'Alan Parrish', '...\n",
       "2        [{'cast_id': 2, 'character': 'Max Goldman', 'c...\n",
       "3        [{'cast_id': 1, 'character': 'Savannah 'Vannah...\n",
       "4        [{'cast_id': 1, 'character': 'George Banks', '...\n",
       "                               ...                        \n",
       "46623    [{'cast_id': 0, 'character': '', 'credit_id': ...\n",
       "46624    [{'cast_id': 1002, 'character': 'Sister Angela...\n",
       "46625    [{'cast_id': 6, 'character': 'Emily Shaw', 'cr...\n",
       "46626    [{'cast_id': 2, 'character': '', 'credit_id': ...\n",
       "46627                                                   []\n",
       "Name: cast, Length: 46628, dtype: object"
      ]
     },
     "execution_count": 8,
     "metadata": {},
     "output_type": "execute_result"
    }
   ],
   "source": [
    "metadata[\"cast\"]"
   ]
  },
  {
   "cell_type": "code",
   "execution_count": 9,
   "id": "f620fe15-3d21-4b11-9a19-3a4d19aedd57",
   "metadata": {},
   "outputs": [],
   "source": [
    "# Function to get the director's name from the crew feature. If director is not listed, return NaN\n",
    "def get_director(x):\n",
    "    for i in x:\n",
    "        if i['job'] == 'Director':\n",
    "            return i['name']\n",
    "    return np.nan"
   ]
  },
  {
   "cell_type": "code",
   "execution_count": 10,
   "id": "188d5f9e-8e7e-4511-b5ee-e609b8c355f1",
   "metadata": {},
   "outputs": [],
   "source": [
    "# A list is passed into this function as \"X\", and returns the values of that list, but limits it to a maximum of three items.\n",
    "# If X is not a list, or is empty, the function returns an empty list.\n",
    "\n",
    "def get_list(x):\n",
    "    if isinstance(x, list):\n",
    "        names = [i['name'] for i in x]\n",
    "        #Check if more than 3 elements exist. If yes, return only first three. If no, return entire list.\n",
    "        if len(names) > 3:\n",
    "            names = names[:3]\n",
    "        return names\n",
    "\n",
    "    #Return empty list in case of missing/malformed data\n",
    "    return []"
   ]
  },
  {
   "cell_type": "code",
   "execution_count": 11,
   "id": "cf3e8519-4b51-4059-b64b-8ca882d8fbb3",
   "metadata": {},
   "outputs": [],
   "source": [
    "# Defines new director, cast, genres and keywords features in the metadata dataframe.\n",
    "metadata['director'] = metadata['crew'].apply(get_director)\n",
    "\n",
    "features = ['cast', 'keywords', 'genres']\n",
    "for feature in features:\n",
    "    metadata[feature] = metadata[feature].apply(get_list)"
   ]
  },
  {
   "cell_type": "code",
   "execution_count": 12,
   "id": "bab4ad2a-0145-4fca-9342-b598eff1b066",
   "metadata": {},
   "outputs": [
    {
     "data": {
      "text/html": [
       "<div>\n",
       "<style scoped>\n",
       "    .dataframe tbody tr th:only-of-type {\n",
       "        vertical-align: middle;\n",
       "    }\n",
       "\n",
       "    .dataframe tbody tr th {\n",
       "        vertical-align: top;\n",
       "    }\n",
       "\n",
       "    .dataframe thead th {\n",
       "        text-align: right;\n",
       "    }\n",
       "</style>\n",
       "<table border=\"1\" class=\"dataframe\">\n",
       "  <thead>\n",
       "    <tr style=\"text-align: right;\">\n",
       "      <th></th>\n",
       "      <th>title</th>\n",
       "      <th>cast</th>\n",
       "      <th>director</th>\n",
       "      <th>keywords</th>\n",
       "      <th>genres</th>\n",
       "    </tr>\n",
       "  </thead>\n",
       "  <tbody>\n",
       "    <tr>\n",
       "      <th>0</th>\n",
       "      <td>Toy Story</td>\n",
       "      <td>[Tom Hanks, Tim Allen, Don Rickles]</td>\n",
       "      <td>John Lasseter</td>\n",
       "      <td>[jealousy, toy, boy]</td>\n",
       "      <td>[Animation, Comedy, Family]</td>\n",
       "    </tr>\n",
       "    <tr>\n",
       "      <th>1</th>\n",
       "      <td>Jumanji</td>\n",
       "      <td>[Robin Williams, Jonathan Hyde, Kirsten Dunst]</td>\n",
       "      <td>Joe Johnston</td>\n",
       "      <td>[board game, disappearance, based on children'...</td>\n",
       "      <td>[Adventure, Fantasy, Family]</td>\n",
       "    </tr>\n",
       "    <tr>\n",
       "      <th>2</th>\n",
       "      <td>Grumpier Old Men</td>\n",
       "      <td>[Walter Matthau, Jack Lemmon, Ann-Margret]</td>\n",
       "      <td>Howard Deutch</td>\n",
       "      <td>[fishing, best friend, duringcreditsstinger]</td>\n",
       "      <td>[Romance, Comedy]</td>\n",
       "    </tr>\n",
       "    <tr>\n",
       "      <th>3</th>\n",
       "      <td>Waiting to Exhale</td>\n",
       "      <td>[Whitney Houston, Angela Bassett, Loretta Devine]</td>\n",
       "      <td>Forest Whitaker</td>\n",
       "      <td>[based on novel, interracial relationship, sin...</td>\n",
       "      <td>[Comedy, Drama, Romance]</td>\n",
       "    </tr>\n",
       "    <tr>\n",
       "      <th>4</th>\n",
       "      <td>Father of the Bride Part II</td>\n",
       "      <td>[Steve Martin, Diane Keaton, Martin Short]</td>\n",
       "      <td>Charles Shyer</td>\n",
       "      <td>[baby, midlife crisis, confidence]</td>\n",
       "      <td>[Comedy]</td>\n",
       "    </tr>\n",
       "    <tr>\n",
       "      <th>5</th>\n",
       "      <td>Heat</td>\n",
       "      <td>[Al Pacino, Robert De Niro, Val Kilmer]</td>\n",
       "      <td>Michael Mann</td>\n",
       "      <td>[robbery, detective, bank]</td>\n",
       "      <td>[Action, Crime, Drama]</td>\n",
       "    </tr>\n",
       "    <tr>\n",
       "      <th>6</th>\n",
       "      <td>Sabrina</td>\n",
       "      <td>[Harrison Ford, Julia Ormond, Greg Kinnear]</td>\n",
       "      <td>Sydney Pollack</td>\n",
       "      <td>[paris, brother brother relationship, chauffeur]</td>\n",
       "      <td>[Comedy, Romance]</td>\n",
       "    </tr>\n",
       "    <tr>\n",
       "      <th>7</th>\n",
       "      <td>Tom and Huck</td>\n",
       "      <td>[Jonathan Taylor Thomas, Brad Renfro, Rachael ...</td>\n",
       "      <td>Peter Hewitt</td>\n",
       "      <td>[]</td>\n",
       "      <td>[Action, Adventure, Drama]</td>\n",
       "    </tr>\n",
       "    <tr>\n",
       "      <th>8</th>\n",
       "      <td>Sudden Death</td>\n",
       "      <td>[Jean-Claude Van Damme, Powers Boothe, Dorian ...</td>\n",
       "      <td>Peter Hyams</td>\n",
       "      <td>[terrorist, hostage, explosive]</td>\n",
       "      <td>[Action, Adventure, Thriller]</td>\n",
       "    </tr>\n",
       "    <tr>\n",
       "      <th>9</th>\n",
       "      <td>GoldenEye</td>\n",
       "      <td>[Pierce Brosnan, Sean Bean, Izabella Scorupco]</td>\n",
       "      <td>Martin Campbell</td>\n",
       "      <td>[cuba, falsely accused, secret identity]</td>\n",
       "      <td>[Adventure, Action, Thriller]</td>\n",
       "    </tr>\n",
       "  </tbody>\n",
       "</table>\n",
       "</div>"
      ],
      "text/plain": [
       "                         title  \\\n",
       "0                    Toy Story   \n",
       "1                      Jumanji   \n",
       "2             Grumpier Old Men   \n",
       "3            Waiting to Exhale   \n",
       "4  Father of the Bride Part II   \n",
       "5                         Heat   \n",
       "6                      Sabrina   \n",
       "7                 Tom and Huck   \n",
       "8                 Sudden Death   \n",
       "9                    GoldenEye   \n",
       "\n",
       "                                                cast         director  \\\n",
       "0                [Tom Hanks, Tim Allen, Don Rickles]    John Lasseter   \n",
       "1     [Robin Williams, Jonathan Hyde, Kirsten Dunst]     Joe Johnston   \n",
       "2         [Walter Matthau, Jack Lemmon, Ann-Margret]    Howard Deutch   \n",
       "3  [Whitney Houston, Angela Bassett, Loretta Devine]  Forest Whitaker   \n",
       "4         [Steve Martin, Diane Keaton, Martin Short]    Charles Shyer   \n",
       "5            [Al Pacino, Robert De Niro, Val Kilmer]     Michael Mann   \n",
       "6        [Harrison Ford, Julia Ormond, Greg Kinnear]   Sydney Pollack   \n",
       "7  [Jonathan Taylor Thomas, Brad Renfro, Rachael ...     Peter Hewitt   \n",
       "8  [Jean-Claude Van Damme, Powers Boothe, Dorian ...      Peter Hyams   \n",
       "9     [Pierce Brosnan, Sean Bean, Izabella Scorupco]  Martin Campbell   \n",
       "\n",
       "                                            keywords  \\\n",
       "0                               [jealousy, toy, boy]   \n",
       "1  [board game, disappearance, based on children'...   \n",
       "2       [fishing, best friend, duringcreditsstinger]   \n",
       "3  [based on novel, interracial relationship, sin...   \n",
       "4                 [baby, midlife crisis, confidence]   \n",
       "5                         [robbery, detective, bank]   \n",
       "6   [paris, brother brother relationship, chauffeur]   \n",
       "7                                                 []   \n",
       "8                    [terrorist, hostage, explosive]   \n",
       "9           [cuba, falsely accused, secret identity]   \n",
       "\n",
       "                          genres  \n",
       "0    [Animation, Comedy, Family]  \n",
       "1   [Adventure, Fantasy, Family]  \n",
       "2              [Romance, Comedy]  \n",
       "3       [Comedy, Drama, Romance]  \n",
       "4                       [Comedy]  \n",
       "5         [Action, Crime, Drama]  \n",
       "6              [Comedy, Romance]  \n",
       "7     [Action, Adventure, Drama]  \n",
       "8  [Action, Adventure, Thriller]  \n",
       "9  [Adventure, Action, Thriller]  "
      ]
     },
     "execution_count": 12,
     "metadata": {},
     "output_type": "execute_result"
    }
   ],
   "source": [
    "# Print the new features\n",
    "metadata[['title', 'cast', 'director', 'keywords', 'genres']].head(10)"
   ]
  },
  {
   "cell_type": "code",
   "execution_count": 13,
   "id": "0a7ecc73-bfa7-4eae-83db-9eb880732118",
   "metadata": {},
   "outputs": [],
   "source": [
    "# Function to convert all strings to lower case and strip names of spaces\n",
    "def clean_data(x):\n",
    "    if isinstance(x, list):\n",
    "        return [str.lower(i.replace(\" \", \"\")) for i in x]\n",
    "    else:\n",
    "        #Check if director exists. If not, return empty string\n",
    "        if isinstance(x, str):\n",
    "            return str.lower(x.replace(\" \", \"\"))\n",
    "        else:\n",
    "            return ''"
   ]
  },
  {
   "cell_type": "code",
   "execution_count": 14,
   "id": "9d1cecac-9b54-4fc5-b770-e52999d89265",
   "metadata": {},
   "outputs": [],
   "source": [
    "# Apply clean_data function to the features.\n",
    "features = ['cast', 'keywords', 'director', 'genres']\n",
    "\n",
    "for feature in features:\n",
    "    metadata[feature] = metadata[feature].apply(clean_data)"
   ]
  },
  {
   "cell_type": "code",
   "execution_count": 15,
   "id": "88e98765-84ba-4154-996b-6e88a5b44b4a",
   "metadata": {},
   "outputs": [],
   "source": [
    "# Merge all content into one text: Create a new feature that contains the text of all the content relevant to each movie.\n",
    "# \"Soup\" represents a combination of all the text features, relevant to build the recommendation engine\n",
    "def create_soup(x):\n",
    "    return ' '.join(x['keywords']) + ' ' + ' '.join(x['cast']) + ' ' + x['director'] + ' ' + ' '.join(x['genres'])"
   ]
  },
  {
   "cell_type": "code",
   "execution_count": 16,
   "id": "1dee2223-e917-431a-9a58-05896cf08f6e",
   "metadata": {},
   "outputs": [],
   "source": [
    "# Create a new soup feature in the metadata dataframe\n",
    "metadata['soup'] = metadata.apply(create_soup, axis=1)"
   ]
  },
  {
   "cell_type": "code",
   "execution_count": 17,
   "id": "4ac8a61b-dd84-4254-8169-19f8e236eb48",
   "metadata": {},
   "outputs": [
    {
     "name": "stdout",
     "output_type": "stream",
     "text": [
      "jealousy toy boy tomhanks timallen donrickles johnlasseter animation comedy family\n"
     ]
    }
   ],
   "source": [
    "# print the first row of the soup column, in the metadata df\n",
    "print(metadata['soup'][0])"
   ]
  },
  {
   "cell_type": "code",
   "execution_count": 18,
   "id": "b9227b3e-278f-422b-aab1-1a22347a2f96",
   "metadata": {},
   "outputs": [],
   "source": [
    "# Limit the data for memory size\n",
    "# metadata = metadata[:20000]"
   ]
  },
  {
   "cell_type": "markdown",
   "id": "d1cda9fb-4232-4cb1-a464-d42ebf2661eb",
   "metadata": {},
   "source": [
    "Note: There are different ways we can convert the soups texts to a vector. I will show how to use bothe CountVectorizer and TF-IDF Vectorizer."
   ]
  },
  {
   "cell_type": "markdown",
   "id": "03823db9-6ff8-496a-805d-f647c2a1616f",
   "metadata": {
    "jp-MarkdownHeadingCollapsed": true,
    "tags": []
   },
   "source": [
    "### Count Vectorizer"
   ]
  },
  {
   "cell_type": "code",
   "execution_count": 19,
   "id": "a69b4a5a-7b33-426d-9618-1e7f2e71bf89",
   "metadata": {},
   "outputs": [],
   "source": [
    "# \"Vectorizers\" are used to convert a text, to a vector of numbers in preparation for machine learning,\n",
    "# or other nlp processing techniques.\n",
    "\n",
    "# We include the stopwords variable, to remove stopwords from the dataset.\n",
    "count = CountVectorizer(stop_words='english')\n",
    "\n",
    "count_matrix = count.fit_transform(metadata['soup'])"
   ]
  },
  {
   "cell_type": "code",
   "execution_count": null,
   "id": "7f722e4b-4cf7-4f84-91f6-28c724ef60bc",
   "metadata": {},
   "outputs": [],
   "source": [
    "# Cosine similarity, is a mathematical concept that finds the similarity between two vectors.\n",
    "cosine_sim1 = cosine_similarity(count_matrix, count_matrix)"
   ]
  },
  {
   "cell_type": "markdown",
   "id": "b6e962e7-8bf1-469a-ad8f-274a8b22eb10",
   "metadata": {},
   "source": [
    "### TF-IDF Vectorizer "
   ]
  },
  {
   "cell_type": "markdown",
   "id": "dd82fe91-a5f6-49d1-93be-2e17e7524f34",
   "metadata": {},
   "source": [
    "We will be taking into account the \"soup\" feature to find similarities in the movies, using sklearn's \"Term Frequency-inverse document frequency\" (TF-IDF) Vectorizer.\n",
    "\n",
    "#### How it works: \n",
    "\n",
    "The TF-IDF Vectorizer is considered one of the most efficient vectorizer algorithmn. It helps transform text into a vector, used to train machine learning algorithms.\n",
    "\n",
    "It compares the number of times a word appears in a text document, with the number of ducuments the word appears in.\n",
    "\n",
    "It is split in  two parts:\n",
    "\n",
    "1. Term Frequency (TF): Which is the number of times the term appears in a document. Calculated by dividing the number of representation of a term in a text, by the number of words in that text.\n",
    "    \n",
    "    \n",
    "2. Inverse Document Frequency (IDF): This is the number of documents the term appears in. Calculated by finding the log of the number of texts divided by the number of texts containing the word.\n",
    "\n",
    "#### Mathematical Formula:\n",
    "\n",
    "$ TF-IDF(t) = TF(t,d) * IDF(t) $\n",
    "\n",
    "where,\n",
    "\n",
    "$TF(t,d) = \\sum \\limits _{x \\in d} fr (x,t) $\n",
    "\n",
    "It returns how many times the term is present in the text.\n",
    "\n",
    "and,\n",
    "\n",
    "$ IDF(t) = log \\frac{|D|}{1 + |{d:t \\in d}|} $\n",
    "\n",
    "It returns the number of texts where the term appears.\n",
    "\n",
    "#### Result:\n",
    "\n",
    "Sklearns tf-idf vectorizer fitted on a text dataset, returns a sparse matrix containing vectors of the dot product of tf and idf, for each text in the dataset."
   ]
  },
  {
   "cell_type": "code",
   "execution_count": 19,
   "id": "a0957199-c943-4b6d-9b15-b61b3eab56b8",
   "metadata": {},
   "outputs": [
    {
     "data": {
      "text/plain": [
       "(46628, 73881)"
      ]
     },
     "execution_count": 19,
     "metadata": {},
     "output_type": "execute_result"
    }
   ],
   "source": [
    "#Define a TF-IDF Vectorizer Object. Remove all english stop words such as 'the', 'a'\n",
    "tfidf = TfidfVectorizer(stop_words='english')\n",
    "\n",
    "#Construct the required TF-IDF matrix by fitting and transforming the data\n",
    "tfidf_matrix = tfidf.fit_transform(metadata['soup'])\n",
    "\n",
    "#Output the shape of tfidf_matrix\n",
    "tfidf_matrix.shape"
   ]
  },
  {
   "cell_type": "code",
   "execution_count": 20,
   "id": "a739b20c-af4c-4c32-b5bc-26f7744f8eb0",
   "metadata": {},
   "outputs": [],
   "source": [
    "# Cosine similarity, is a mathematical concept that finds the similarity between two vectors.\n",
    "cosine_sim2 = cosine_similarity(tfidf_matrix, tfidf_matrix)"
   ]
  },
  {
   "cell_type": "code",
   "execution_count": 21,
   "id": "f110decc-66be-4124-b973-ec72e20d7785",
   "metadata": {},
   "outputs": [],
   "source": [
    "# Reset index of your main DataFrame and construct reverse mapping as before\n",
    "metadata = metadata.reset_index()\n",
    "indices = pd.Series(metadata.index, index=metadata['title'])"
   ]
  },
  {
   "cell_type": "code",
   "execution_count": 22,
   "id": "8cfc9f1b-5f9a-4b57-a760-f031fbfd73b3",
   "metadata": {},
   "outputs": [],
   "source": [
    "# Function that takes in movie title as input and outputs most similar movies\n",
    "# Here we used the \"cosine_sim2\" derived from the TF-IDF Vectorizer Matrix\n",
    "\n",
    "def get_recommendations(title, cosine_sim=cosine_sim2):\n",
    "    # Get the index of the movie that matches the title\n",
    "    idx = indices[title]\n",
    "\n",
    "    # Get the pairwsie similarity scores of all movies with that movie\n",
    "    sim_scores = list(enumerate(cosine_sim[idx]))\n",
    "\n",
    "    # Sort the movies based on the similarity scores\n",
    "    sim_scores = sorted(sim_scores, key=lambda x: x[1], reverse=True)\n",
    "\n",
    "    # Get the scores of the 10 most similar movies\n",
    "    sim_scores = sim_scores[1:11]\n",
    "\n",
    "    # Get the movie indices\n",
    "    movie_indices = [i[0] for i in sim_scores]\n",
    "\n",
    "    # Return the top 10 most similar movies\n",
    "    return metadata['title'].iloc[movie_indices]"
   ]
  },
  {
   "cell_type": "code",
   "execution_count": 23,
   "id": "15c4020f-171c-4aa2-99b0-a96133cbaf47",
   "metadata": {},
   "outputs": [
    {
     "data": {
      "text/plain": [
       "14455                       Where the Wild Things Are\n",
       "26717                                  Mostly Ghostly\n",
       "30651    Mostly Ghostly: Have You Met My Ghoulfriend?\n",
       "41598       Mostly Ghostly 3: One Night in Doom House\n",
       "42041                                  You Are Umasou\n",
       "24871               Tinker Bell and the Lost Treasure\n",
       "30667                 Zenon: Girl of the 21st Century\n",
       "41195       Middle School: The Worst Years of My Life\n",
       "27913                            Karlsson on the Roof\n",
       "18858                                       The Lorax\n",
       "Name: title, dtype: object"
      ]
     },
     "execution_count": 23,
     "metadata": {},
     "output_type": "execute_result"
    }
   ],
   "source": [
    "get_recommendations('Jumanji', cosine_sim2)"
   ]
  },
  {
   "cell_type": "code",
   "execution_count": null,
   "id": "76310141-c130-414b-b673-0271e7dbe48a",
   "metadata": {},
   "outputs": [],
   "source": []
  }
 ],
 "metadata": {
  "kernelspec": {
   "display_name": "Python 3 (ipykernel)",
   "language": "python",
   "name": "python3"
  },
  "language_info": {
   "codemirror_mode": {
    "name": "ipython",
    "version": 3
   },
   "file_extension": ".py",
   "mimetype": "text/x-python",
   "name": "python",
   "nbconvert_exporter": "python",
   "pygments_lexer": "ipython3",
   "version": "3.9.13"
  }
 },
 "nbformat": 4,
 "nbformat_minor": 5
}
