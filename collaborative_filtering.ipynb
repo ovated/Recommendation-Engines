{
 "cells": [
  {
   "cell_type": "markdown",
   "id": "1544b700-4088-41a2-9013-76e4fae7bd75",
   "metadata": {},
   "source": [
    "# Collaborative Filtering\n",
    "Uses Deep learning to predict movie ratings based on user and movie embeddings, and bias."
   ]
  },
  {
   "cell_type": "code",
   "execution_count": 1,
   "id": "b3cc0d05-96a0-489b-b9bd-47526e0cd2bd",
   "metadata": {},
   "outputs": [],
   "source": [
    "import pandas as pd\n",
    "import numpy as np\n",
    "import matplotlib.pyplot as plt\n",
    "from sklearn.preprocessing import LabelEncoder\n",
    "from sklearn.model_selection import train_test_split\n",
    "\n",
    "import nltk\n",
    "from nltk.corpus import stopwords\n",
    "from tensorflow.keras import models\n",
    "from tensorflow.keras import layers\n",
    "from tensorflow.keras import optimizers\n",
    "from tensorflow.keras import losses\n",
    "from tensorflow.keras import regularizers\n",
    "from tensorflow.keras import metrics\n",
    "from tensorflow.keras.utils import plot_model"
   ]
  },
  {
   "cell_type": "code",
   "execution_count": 2,
   "id": "6e88b1e4-cc47-40bb-a1e6-12ce941ba036",
   "metadata": {},
   "outputs": [],
   "source": [
    "# Get the data\n",
    "\n",
    "# Read movies data as csv\n",
    "movies = pd.read_csv('C:/Users/Ehi/Downloads/data/movie_lens/ml-latest-small/movies.csv')\n",
    "\n",
    "# Read Ratings data as csv\n",
    "ratings = pd.read_csv('C:/Users/Ehi/Downloads/data/movie_lens/ml-latest-small/ratings.csv')"
   ]
  },
  {
   "cell_type": "markdown",
   "id": "ef4d4673-4bc3-4885-b162-8f15bf7efd0e",
   "metadata": {},
   "source": [
    "### Pre-processing"
   ]
  },
  {
   "cell_type": "code",
   "execution_count": 3,
   "id": "79efee53-3bcd-4289-987f-87801758077f",
   "metadata": {},
   "outputs": [],
   "source": [
    "# k variable holds the number of top \"k\" users and movies\n",
    "k = 15\n",
    "\n",
    "# count the number of ratings by each user\n",
    "g = ratings.groupby('userId')['rating'].count()\n",
    "# select the top \"k\" users\n",
    "top_users = g.sort_values(ascending=False)[:k]\n",
    "\n",
    "# groups the ratings dataframe by movieId\n",
    "g = ratings.groupby('movieId')['rating'].count()\n",
    "\n",
    "# Selects the top \"k\" movies with the highest number of ratings\n",
    "top_movies = g.sort_values(ascending=False)[:k]\n",
    "\n",
    "# Join the ratings dataframe with the top_users and top_movies dataframe\n",
    "top_r = ratings.join(top_users, rsuffix='_r', how='inner', on='userId')\n",
    "top_r = top_r.join(top_movies, rsuffix='_r', how='inner', on='movieId')"
   ]
  },
  {
   "cell_type": "code",
   "execution_count": 4,
   "id": "3e7d2c15-4f32-4daa-830b-31b4f1e2dcdc",
   "metadata": {},
   "outputs": [
    {
     "data": {
      "text/html": [
       "<div>\n",
       "<style scoped>\n",
       "    .dataframe tbody tr th:only-of-type {\n",
       "        vertical-align: middle;\n",
       "    }\n",
       "\n",
       "    .dataframe tbody tr th {\n",
       "        vertical-align: top;\n",
       "    }\n",
       "\n",
       "    .dataframe thead th {\n",
       "        text-align: right;\n",
       "    }\n",
       "</style>\n",
       "<table border=\"1\" class=\"dataframe\">\n",
       "  <thead>\n",
       "    <tr style=\"text-align: right;\">\n",
       "      <th></th>\n",
       "      <th>userId</th>\n",
       "      <th>movieId</th>\n",
       "      <th>rating</th>\n",
       "      <th>timestamp</th>\n",
       "      <th>rating_r</th>\n",
       "      <th>rating_r</th>\n",
       "    </tr>\n",
       "  </thead>\n",
       "  <tbody>\n",
       "    <tr>\n",
       "      <th>10360</th>\n",
       "      <td>68</td>\n",
       "      <td>1</td>\n",
       "      <td>2.5</td>\n",
       "      <td>1158531426</td>\n",
       "      <td>1260</td>\n",
       "      <td>215</td>\n",
       "    </tr>\n",
       "    <tr>\n",
       "      <th>26092</th>\n",
       "      <td>182</td>\n",
       "      <td>1</td>\n",
       "      <td>4.0</td>\n",
       "      <td>1063289621</td>\n",
       "      <td>977</td>\n",
       "      <td>215</td>\n",
       "    </tr>\n",
       "    <tr>\n",
       "      <th>36374</th>\n",
       "      <td>249</td>\n",
       "      <td>1</td>\n",
       "      <td>4.0</td>\n",
       "      <td>1347317775</td>\n",
       "      <td>1046</td>\n",
       "      <td>215</td>\n",
       "    </tr>\n",
       "    <tr>\n",
       "      <th>39229</th>\n",
       "      <td>274</td>\n",
       "      <td>1</td>\n",
       "      <td>4.0</td>\n",
       "      <td>1171410158</td>\n",
       "      <td>1346</td>\n",
       "      <td>215</td>\n",
       "    </tr>\n",
       "    <tr>\n",
       "      <th>42114</th>\n",
       "      <td>288</td>\n",
       "      <td>1</td>\n",
       "      <td>4.5</td>\n",
       "      <td>1054568869</td>\n",
       "      <td>1055</td>\n",
       "      <td>215</td>\n",
       "    </tr>\n",
       "  </tbody>\n",
       "</table>\n",
       "</div>"
      ],
      "text/plain": [
       "       userId  movieId  rating   timestamp  rating_r  rating_r\n",
       "10360      68        1     2.5  1158531426      1260       215\n",
       "26092     182        1     4.0  1063289621       977       215\n",
       "36374     249        1     4.0  1347317775      1046       215\n",
       "39229     274        1     4.0  1171410158      1346       215\n",
       "42114     288        1     4.5  1054568869      1055       215"
      ]
     },
     "execution_count": 4,
     "metadata": {},
     "output_type": "execute_result"
    }
   ],
   "source": [
    "top_r.head()"
   ]
  },
  {
   "cell_type": "code",
   "execution_count": 5,
   "id": "e0691543-0cba-4bc5-9433-4639c400b3cd",
   "metadata": {},
   "outputs": [],
   "source": [
    "# Encode the relevant data\n",
    "\n",
    "# Encode the userId column\n",
    "user_enc = LabelEncoder()\n",
    "ratings['user'] = user_enc.fit_transform(ratings.userId.values)\n",
    "n_users = ratings['user'].nunique()\n",
    "\n",
    "# Encode the movieId column\n",
    "item_enc = LabelEncoder()\n",
    "ratings['movie'] = user_enc.fit_transform(ratings.movieId.values)\n",
    "n_movies = ratings['movie'].nunique()"
   ]
  },
  {
   "cell_type": "code",
   "execution_count": 6,
   "id": "db2f9f64-be16-487d-8b65-70eaf4e9db68",
   "metadata": {},
   "outputs": [],
   "source": [
    "# convert the rating column to float\n",
    "ratings['rating'] = ratings['rating'].values.astype(np.float32)"
   ]
  },
  {
   "cell_type": "code",
   "execution_count": 7,
   "id": "9e407065-14e3-4494-bd48-280300e99b43",
   "metadata": {},
   "outputs": [],
   "source": [
    "# Find the minimum and maximum rating\n",
    "min_rating = min(ratings['rating'])\n",
    "max_rating = max(ratings['rating'])"
   ]
  },
  {
   "cell_type": "markdown",
   "id": "3c004bba-cb19-4b13-b05e-da12dec6cff6",
   "metadata": {},
   "source": [
    "### Deep learning model"
   ]
  },
  {
   "cell_type": "code",
   "execution_count": 8,
   "id": "6cfa087f-59f6-4627-badd-a02f8f39e20a",
   "metadata": {},
   "outputs": [],
   "source": [
    "# Number of latent factors\n",
    "emb_sz = 50"
   ]
  },
  {
   "cell_type": "code",
   "execution_count": 9,
   "id": "e3f49029-c546-4a64-a903-5c877fa46226",
   "metadata": {},
   "outputs": [],
   "source": [
    "# Define user embeddings\n",
    "\n",
    "# Input layer\n",
    "user = layers.Input(shape=(1,))\n",
    "\n",
    "# Embedding layer\n",
    "user_emb = layers.Embedding(n_users, emb_sz, embeddings_regularizer=regularizers.l2(1e-6))(user)\n",
    "\n",
    "# Reshape layer to flatten the embedding vector.\n",
    "user_emb = layers.Reshape((emb_sz,))(user_emb)"
   ]
  },
  {
   "cell_type": "code",
   "execution_count": 10,
   "id": "f219078d-6bb5-42e3-a737-bb2f6bba6f40",
   "metadata": {},
   "outputs": [],
   "source": [
    "# Define user bias\n",
    "\n",
    "# Embedding layer\n",
    "user_bias = layers.Embedding(n_users, 1, embeddings_regularizer=regularizers.l2(1e-6))(user)\n",
    "\n",
    "# Reshape layer\n",
    "user_bias = layers.Reshape((1,))(user_bias)"
   ]
  },
  {
   "cell_type": "code",
   "execution_count": 11,
   "id": "574296d6-577c-4fdb-ae8a-edb9b168f3eb",
   "metadata": {},
   "outputs": [],
   "source": [
    "# Define movie embeddings\n",
    "\n",
    "# Input layer\n",
    "movie = layers.Input(shape=(1,))\n",
    "\n",
    "# Embedding layer\n",
    "movie_emb = layers.Embedding(n_movies, emb_sz, embeddings_regularizer=regularizers.l2(1e-6))(movie)\n",
    "\n",
    "# Reshape layer\n",
    "movie_emb = layers.Reshape((emb_sz,))(movie_emb)"
   ]
  },
  {
   "cell_type": "code",
   "execution_count": 12,
   "id": "036e82d6-3c1a-412e-bbad-2bd4b290c5eb",
   "metadata": {},
   "outputs": [],
   "source": [
    "# Define movie bias\n",
    "\n",
    "# Embedding layer\n",
    "movie_bias = layers.Embedding(n_movies, 1, embeddings_regularizer=regularizers.l2(1e-6))(movie)\n",
    "\n",
    "# Reshape layer\n",
    "movie_bias = layers.Reshape((1,))(movie_bias)"
   ]
  },
  {
   "cell_type": "code",
   "execution_count": 13,
   "id": "080bbc3c-5a83-4340-92ca-3aec41068106",
   "metadata": {},
   "outputs": [],
   "source": [
    "# Get predicted ratings\n",
    "rating = layers.Concatenate()([user_emb, movie_emb])"
   ]
  },
  {
   "cell_type": "code",
   "execution_count": 14,
   "id": "f0a1a46b-0811-4499-9155-8a7d975721e0",
   "metadata": {},
   "outputs": [],
   "source": [
    "# Add biases to the ratings\n",
    "\n",
    "# Adds the user and movie embeddig to the dot product of the embeddings\n",
    "rating = layers.Add()([rating, user_bias, movie_bias])\n",
    "\n",
    "# Activation function\n",
    "rating = layers.Dense(10, activation='relu')(rating)\n",
    "\n",
    "# Applies dropout regularization to the ratings to reduce overfitting\n",
    "rating = layers.Dropout(0.5)(rating)\n",
    "\n",
    "# Produces a rating between 0 and 1\n",
    "rating = layers.Dense(1, activation='sigmoid')(rating)\n",
    "\n",
    "# Scales the predicted ratings to a range of 1 - 5\n",
    "rating = layers.Lambda(lambda x:x*(max_rating - min_rating) + min_rating)(rating)"
   ]
  },
  {
   "cell_type": "markdown",
   "id": "2b95a3e7-cf68-48c1-bfd3-bf2c305a4dee",
   "metadata": {},
   "source": [
    "### Train and evaluate the model"
   ]
  },
  {
   "cell_type": "code",
   "execution_count": 15,
   "id": "1f0adc9d-073a-43e0-a2d3-42d877da28bb",
   "metadata": {},
   "outputs": [
    {
     "name": "stderr",
     "output_type": "stream",
     "text": [
      "WARNING:absl:`lr` is deprecated, please use `learning_rate` instead, or use the legacy optimizer, e.g.,tf.keras.optimizers.legacy.Adam.\n"
     ]
    }
   ],
   "source": [
    "# Model\n",
    "model = models.Model([user, movie], rating)\n",
    "\n",
    "# Compile the model\n",
    "model.compile(loss='mse',  metrics=metrics.RootMeanSquaredError(),\n",
    "              optimizer=optimizers.Adam(lr=0.001))"
   ]
  },
  {
   "cell_type": "code",
   "execution_count": 16,
   "id": "ef4f4faa-4789-4216-b7d4-6f01c3c26601",
   "metadata": {},
   "outputs": [
    {
     "name": "stdout",
     "output_type": "stream",
     "text": [
      "(90752, 2) (90752,)\n",
      "(10084, 2) (10084,)\n"
     ]
    }
   ],
   "source": [
    "# split data into a trai and test dataset.\n",
    "\n",
    "X = ratings[['user', 'movie']].values\n",
    "y = ratings['rating'].values\n",
    "X_train, X_test, y_train, y_test = train_test_split(X, y, test_size=0.1, random_state=42)\n",
    "\n",
    "print(X_train.shape, y_train.shape)\n",
    "print(X_test.shape, y_test.shape)"
   ]
  },
  {
   "cell_type": "code",
   "execution_count": 17,
   "id": "2d6c7ca2-f2d6-45d2-bb22-dae79a79bf55",
   "metadata": {},
   "outputs": [
    {
     "name": "stdout",
     "output_type": "stream",
     "text": [
      "Epoch 1/5\n",
      "1418/1418 [==============================] - 14s 9ms/step - loss: 0.9275 - root_mean_squared_error: 0.9629 - val_loss: 0.7970 - val_root_mean_squared_error: 0.8924\n",
      "Epoch 2/5\n",
      "1418/1418 [==============================] - 14s 10ms/step - loss: 0.7636 - root_mean_squared_error: 0.8734 - val_loss: 0.7747 - val_root_mean_squared_error: 0.8796\n",
      "Epoch 3/5\n",
      "1418/1418 [==============================] - 15s 11ms/step - loss: 0.7280 - root_mean_squared_error: 0.8526 - val_loss: 0.7798 - val_root_mean_squared_error: 0.8823\n",
      "Epoch 4/5\n",
      "1418/1418 [==============================] - 13s 9ms/step - loss: 0.7108 - root_mean_squared_error: 0.8421 - val_loss: 0.7753 - val_root_mean_squared_error: 0.8795\n",
      "Epoch 5/5\n",
      "1418/1418 [==============================] - 14s 10ms/step - loss: 0.6973 - root_mean_squared_error: 0.8338 - val_loss: 0.7825 - val_root_mean_squared_error: 0.8833\n"
     ]
    },
    {
     "data": {
      "text/plain": [
       "<keras.callbacks.History at 0x2666c48e2e0>"
      ]
     },
     "execution_count": 17,
     "metadata": {},
     "output_type": "execute_result"
    }
   ],
   "source": [
    "# Train the model\n",
    "\n",
    "model.fit(x=[X_train[:,0], X_train[:,1]], y=y_train,\n",
    "          batch_size=64, epochs=5, verbose=1,\n",
    "          validation_data=([X_test[:,0], X_test[:,1]], y_test))"
   ]
  },
  {
   "cell_type": "markdown",
   "id": "e9622ae4-b606-4ccf-b007-9a44db17a2dc",
   "metadata": {},
   "source": [
    "In conclusion, we can say that our model predicts user ratings with 88% accuracy, using RMSE evaluation metric."
   ]
  },
  {
   "cell_type": "code",
   "execution_count": null,
   "id": "18628a13-caa1-4f75-a390-9ac75660d09a",
   "metadata": {},
   "outputs": [],
   "source": []
  }
 ],
 "metadata": {
  "kernelspec": {
   "display_name": "Python 3 (ipykernel)",
   "language": "python",
   "name": "python3"
  },
  "language_info": {
   "codemirror_mode": {
    "name": "ipython",
    "version": 3
   },
   "file_extension": ".py",
   "mimetype": "text/x-python",
   "name": "python",
   "nbconvert_exporter": "python",
   "pygments_lexer": "ipython3",
   "version": "3.9.13"
  }
 },
 "nbformat": 4,
 "nbformat_minor": 5
}
